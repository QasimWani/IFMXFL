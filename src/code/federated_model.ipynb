{
 "cells": [
  {
   "cell_type": "markdown",
   "metadata": {},
   "source": [
    "### The goal of this program is to perform a baseline analysis for a standard unified loan prediction dataset using a simple ANN"
   ]
  },
  {
   "cell_type": "code",
   "execution_count": 1,
   "metadata": {},
   "outputs": [],
   "source": [
    "from tqdm import tqdm\n",
    "import numpy as np\n",
    "import matplotlib.pyplot as plt\n",
    "import pandas as pd\n",
    "import time #check min_threshold values for cloud storage\n",
    "from sklearn.model_selection import train_test_split #don't use for time-series baseline!\n",
    "from sklearn.metrics import accuracy_score, confusion_matrix\n",
    "\n",
    "import torch\n",
    "import torch.nn as nn\n",
    "import torch.nn.functional as F"
   ]
  },
  {
   "cell_type": "code",
   "execution_count": 2,
   "metadata": {},
   "outputs": [],
   "source": [
    "df = pd.read_csv(\"../../data/loans/train.csv\")"
   ]
  },
  {
   "cell_type": "code",
   "execution_count": 3,
   "metadata": {},
   "outputs": [
    {
     "data": {
      "text/html": [
       "<div>\n",
       "<style scoped>\n",
       "    .dataframe tbody tr th:only-of-type {\n",
       "        vertical-align: middle;\n",
       "    }\n",
       "\n",
       "    .dataframe tbody tr th {\n",
       "        vertical-align: top;\n",
       "    }\n",
       "\n",
       "    .dataframe thead th {\n",
       "        text-align: right;\n",
       "    }\n",
       "</style>\n",
       "<table border=\"1\" class=\"dataframe\">\n",
       "  <thead>\n",
       "    <tr style=\"text-align: right;\">\n",
       "      <th></th>\n",
       "      <th>Loan_ID</th>\n",
       "      <th>Gender</th>\n",
       "      <th>Married</th>\n",
       "      <th>Dependents</th>\n",
       "      <th>Education</th>\n",
       "      <th>Self_Employed</th>\n",
       "      <th>ApplicantIncome</th>\n",
       "      <th>CoapplicantIncome</th>\n",
       "      <th>LoanAmount</th>\n",
       "      <th>Loan_Amount_Term</th>\n",
       "      <th>Credit_History</th>\n",
       "      <th>Property_Area</th>\n",
       "      <th>Loan_Status</th>\n",
       "    </tr>\n",
       "  </thead>\n",
       "  <tbody>\n",
       "    <tr>\n",
       "      <th>0</th>\n",
       "      <td>LP001002</td>\n",
       "      <td>Male</td>\n",
       "      <td>No</td>\n",
       "      <td>0</td>\n",
       "      <td>Graduate</td>\n",
       "      <td>No</td>\n",
       "      <td>5849</td>\n",
       "      <td>0.0</td>\n",
       "      <td>NaN</td>\n",
       "      <td>360.0</td>\n",
       "      <td>1.0</td>\n",
       "      <td>Urban</td>\n",
       "      <td>Y</td>\n",
       "    </tr>\n",
       "    <tr>\n",
       "      <th>1</th>\n",
       "      <td>LP001003</td>\n",
       "      <td>Male</td>\n",
       "      <td>Yes</td>\n",
       "      <td>1</td>\n",
       "      <td>Graduate</td>\n",
       "      <td>No</td>\n",
       "      <td>4583</td>\n",
       "      <td>1508.0</td>\n",
       "      <td>128.0</td>\n",
       "      <td>360.0</td>\n",
       "      <td>1.0</td>\n",
       "      <td>Rural</td>\n",
       "      <td>N</td>\n",
       "    </tr>\n",
       "    <tr>\n",
       "      <th>2</th>\n",
       "      <td>LP001005</td>\n",
       "      <td>Male</td>\n",
       "      <td>Yes</td>\n",
       "      <td>0</td>\n",
       "      <td>Graduate</td>\n",
       "      <td>Yes</td>\n",
       "      <td>3000</td>\n",
       "      <td>0.0</td>\n",
       "      <td>66.0</td>\n",
       "      <td>360.0</td>\n",
       "      <td>1.0</td>\n",
       "      <td>Urban</td>\n",
       "      <td>Y</td>\n",
       "    </tr>\n",
       "    <tr>\n",
       "      <th>3</th>\n",
       "      <td>LP001006</td>\n",
       "      <td>Male</td>\n",
       "      <td>Yes</td>\n",
       "      <td>0</td>\n",
       "      <td>Not Graduate</td>\n",
       "      <td>No</td>\n",
       "      <td>2583</td>\n",
       "      <td>2358.0</td>\n",
       "      <td>120.0</td>\n",
       "      <td>360.0</td>\n",
       "      <td>1.0</td>\n",
       "      <td>Urban</td>\n",
       "      <td>Y</td>\n",
       "    </tr>\n",
       "    <tr>\n",
       "      <th>4</th>\n",
       "      <td>LP001008</td>\n",
       "      <td>Male</td>\n",
       "      <td>No</td>\n",
       "      <td>0</td>\n",
       "      <td>Graduate</td>\n",
       "      <td>No</td>\n",
       "      <td>6000</td>\n",
       "      <td>0.0</td>\n",
       "      <td>141.0</td>\n",
       "      <td>360.0</td>\n",
       "      <td>1.0</td>\n",
       "      <td>Urban</td>\n",
       "      <td>Y</td>\n",
       "    </tr>\n",
       "  </tbody>\n",
       "</table>\n",
       "</div>"
      ],
      "text/plain": [
       "    Loan_ID Gender Married Dependents     Education Self_Employed  \\\n",
       "0  LP001002   Male      No          0      Graduate            No   \n",
       "1  LP001003   Male     Yes          1      Graduate            No   \n",
       "2  LP001005   Male     Yes          0      Graduate           Yes   \n",
       "3  LP001006   Male     Yes          0  Not Graduate            No   \n",
       "4  LP001008   Male      No          0      Graduate            No   \n",
       "\n",
       "   ApplicantIncome  CoapplicantIncome  LoanAmount  Loan_Amount_Term  \\\n",
       "0             5849                0.0         NaN             360.0   \n",
       "1             4583             1508.0       128.0             360.0   \n",
       "2             3000                0.0        66.0             360.0   \n",
       "3             2583             2358.0       120.0             360.0   \n",
       "4             6000                0.0       141.0             360.0   \n",
       "\n",
       "   Credit_History Property_Area Loan_Status  \n",
       "0             1.0         Urban           Y  \n",
       "1             1.0         Rural           N  \n",
       "2             1.0         Urban           Y  \n",
       "3             1.0         Urban           Y  \n",
       "4             1.0         Urban           Y  "
      ]
     },
     "execution_count": 3,
     "metadata": {},
     "output_type": "execute_result"
    }
   ],
   "source": [
    "df.head()"
   ]
  },
  {
   "cell_type": "markdown",
   "metadata": {},
   "source": [
    "## Data pre-processing"
   ]
  },
  {
   "cell_type": "code",
   "execution_count": 4,
   "metadata": {},
   "outputs": [],
   "source": [
    "def preprocess_df(dataframe, isTest=False):\n",
    "    \"\"\"Preprocess a dataframe, unique to the loan_prediction dataset\"\"\"\n",
    "    #perform deep copy, fixes self assignment bug:\n",
    "    #https://pandas.pydata.org/pandas-docs/stable/user_guide/indexing.html#returning-a-view-versus-a-copy\n",
    "    df = dataframe.copy(deep=True)\n",
    "    \n",
    "    null_df = np.sum(df.isnull())\n",
    "    print(null_df) \n",
    "    print(f\"\\nTotal null values: {np.sum(null_df)}\") #get total number of null values\n",
    "    ### remove all rows with null values\n",
    "    df = df.dropna(how='any',axis=0) \n",
    "    del df['Loan_ID'] #remove Loan_ID (irrelevant)\n",
    "\n",
    "    # convert to binary variables\n",
    "\n",
    "    ##----------------------------------------------------------------------------\n",
    "    #### ----------------------------------Table----------------------------------\n",
    "    ##----------------------------------------------------------------------------\n",
    "\n",
    "    #> ----Gender---\n",
    "    ## - Male: 0\n",
    "    ## - Female: 1\n",
    "    df.loc[(df.Gender == 'Male'),'Gender']=0\n",
    "    df.loc[(df.Gender == 'Female'),'Gender']=1\n",
    "\n",
    "    #> ----Married---\n",
    "    ## - No: 0\n",
    "    ## - Yes: 1\n",
    "    df.loc[(df.Married == 'Yes'),'Married']=0\n",
    "    df.loc[(df.Married == 'No'),'Married']=1\n",
    "\n",
    "    #> ----Education---\n",
    "    ## - Not Graduate: 0\n",
    "    ## - Graduate: 1\n",
    "    df.loc[(df.Education == 'Not Graduate'),'Education']=0\n",
    "    df.loc[(df.Education == 'Graduate'),'Education']=1\n",
    "\n",
    "    #> ----Self_Employed---\n",
    "    ## - No: 0\n",
    "    ## - Yes: 1\n",
    "    df.loc[(df.Self_Employed == 'No'),'Self_Employed']=0\n",
    "    df.loc[(df.Self_Employed == 'Yes'),'Self_Employed']=1\n",
    "\n",
    "\n",
    "    #> ----Property_area---\n",
    "    ## - Rural: 0\n",
    "    ## - Urban: 1\n",
    "    ## - Semiurban: 2\n",
    "    df.loc[(df.Property_Area == 'Rural'),'Property_Area']=0\n",
    "    df.loc[(df.Property_Area == 'Urban'),'Property_Area']=1\n",
    "    df.loc[(df.Property_Area == 'Semiurban'),'Property_Area']=2\n",
    "    \n",
    "    \n",
    "    #> ----Loan_Status--- (ONLY for Training set)\n",
    "    ## - No: 0\n",
    "    ## - Yes: 1\n",
    "    if(not isTest):\n",
    "        df.loc[(df.Loan_Status == 'N'),'Loan_Status']=0\n",
    "        df.loc[(df.Loan_Status == 'Y'),'Loan_Status']=1\n",
    "\n",
    "    #> -----Dependents-----\n",
    "    #set max as \n",
    "    df.loc[(df.Dependents == '3+'), 'Dependents'] = 3\n",
    "    ##----------------------------------------------------------------------------\n",
    "    #### ----------------------------------Table----------------------------------\n",
    "    ##----------------------------------------------------------------------------\n",
    "\n",
    "    #!!! Typecase to float (for tensors below)\n",
    "    df = df.astype(float)\n",
    "    \n",
    "    return df"
   ]
  },
  {
   "cell_type": "code",
   "execution_count": 5,
   "metadata": {},
   "outputs": [
    {
     "name": "stdout",
     "output_type": "stream",
     "text": [
      "Loan_ID               0\n",
      "Gender               13\n",
      "Married               3\n",
      "Dependents           15\n",
      "Education             0\n",
      "Self_Employed        32\n",
      "ApplicantIncome       0\n",
      "CoapplicantIncome     0\n",
      "LoanAmount           22\n",
      "Loan_Amount_Term     14\n",
      "Credit_History       50\n",
      "Property_Area         0\n",
      "Loan_Status           0\n",
      "dtype: int64\n",
      "\n",
      "Total null values: 149\n"
     ]
    }
   ],
   "source": [
    "df = preprocess_df(df)"
   ]
  },
  {
   "cell_type": "code",
   "execution_count": 6,
   "metadata": {},
   "outputs": [
    {
     "data": {
      "text/html": [
       "<div>\n",
       "<style scoped>\n",
       "    .dataframe tbody tr th:only-of-type {\n",
       "        vertical-align: middle;\n",
       "    }\n",
       "\n",
       "    .dataframe tbody tr th {\n",
       "        vertical-align: top;\n",
       "    }\n",
       "\n",
       "    .dataframe thead th {\n",
       "        text-align: right;\n",
       "    }\n",
       "</style>\n",
       "<table border=\"1\" class=\"dataframe\">\n",
       "  <thead>\n",
       "    <tr style=\"text-align: right;\">\n",
       "      <th></th>\n",
       "      <th>Gender</th>\n",
       "      <th>Married</th>\n",
       "      <th>Dependents</th>\n",
       "      <th>Education</th>\n",
       "      <th>Self_Employed</th>\n",
       "      <th>ApplicantIncome</th>\n",
       "      <th>CoapplicantIncome</th>\n",
       "      <th>LoanAmount</th>\n",
       "      <th>Loan_Amount_Term</th>\n",
       "      <th>Credit_History</th>\n",
       "      <th>Property_Area</th>\n",
       "      <th>Loan_Status</th>\n",
       "    </tr>\n",
       "  </thead>\n",
       "  <tbody>\n",
       "    <tr>\n",
       "      <th>1</th>\n",
       "      <td>0.0</td>\n",
       "      <td>0.0</td>\n",
       "      <td>1.0</td>\n",
       "      <td>1.0</td>\n",
       "      <td>0.0</td>\n",
       "      <td>4583.0</td>\n",
       "      <td>1508.0</td>\n",
       "      <td>128.0</td>\n",
       "      <td>360.0</td>\n",
       "      <td>1.0</td>\n",
       "      <td>0.0</td>\n",
       "      <td>0.0</td>\n",
       "    </tr>\n",
       "    <tr>\n",
       "      <th>2</th>\n",
       "      <td>0.0</td>\n",
       "      <td>0.0</td>\n",
       "      <td>0.0</td>\n",
       "      <td>1.0</td>\n",
       "      <td>1.0</td>\n",
       "      <td>3000.0</td>\n",
       "      <td>0.0</td>\n",
       "      <td>66.0</td>\n",
       "      <td>360.0</td>\n",
       "      <td>1.0</td>\n",
       "      <td>1.0</td>\n",
       "      <td>1.0</td>\n",
       "    </tr>\n",
       "    <tr>\n",
       "      <th>3</th>\n",
       "      <td>0.0</td>\n",
       "      <td>0.0</td>\n",
       "      <td>0.0</td>\n",
       "      <td>0.0</td>\n",
       "      <td>0.0</td>\n",
       "      <td>2583.0</td>\n",
       "      <td>2358.0</td>\n",
       "      <td>120.0</td>\n",
       "      <td>360.0</td>\n",
       "      <td>1.0</td>\n",
       "      <td>1.0</td>\n",
       "      <td>1.0</td>\n",
       "    </tr>\n",
       "    <tr>\n",
       "      <th>4</th>\n",
       "      <td>0.0</td>\n",
       "      <td>1.0</td>\n",
       "      <td>0.0</td>\n",
       "      <td>1.0</td>\n",
       "      <td>0.0</td>\n",
       "      <td>6000.0</td>\n",
       "      <td>0.0</td>\n",
       "      <td>141.0</td>\n",
       "      <td>360.0</td>\n",
       "      <td>1.0</td>\n",
       "      <td>1.0</td>\n",
       "      <td>1.0</td>\n",
       "    </tr>\n",
       "    <tr>\n",
       "      <th>5</th>\n",
       "      <td>0.0</td>\n",
       "      <td>0.0</td>\n",
       "      <td>2.0</td>\n",
       "      <td>1.0</td>\n",
       "      <td>1.0</td>\n",
       "      <td>5417.0</td>\n",
       "      <td>4196.0</td>\n",
       "      <td>267.0</td>\n",
       "      <td>360.0</td>\n",
       "      <td>1.0</td>\n",
       "      <td>1.0</td>\n",
       "      <td>1.0</td>\n",
       "    </tr>\n",
       "  </tbody>\n",
       "</table>\n",
       "</div>"
      ],
      "text/plain": [
       "   Gender  Married  Dependents  Education  Self_Employed  ApplicantIncome  \\\n",
       "1     0.0      0.0         1.0        1.0            0.0           4583.0   \n",
       "2     0.0      0.0         0.0        1.0            1.0           3000.0   \n",
       "3     0.0      0.0         0.0        0.0            0.0           2583.0   \n",
       "4     0.0      1.0         0.0        1.0            0.0           6000.0   \n",
       "5     0.0      0.0         2.0        1.0            1.0           5417.0   \n",
       "\n",
       "   CoapplicantIncome  LoanAmount  Loan_Amount_Term  Credit_History  \\\n",
       "1             1508.0       128.0             360.0             1.0   \n",
       "2                0.0        66.0             360.0             1.0   \n",
       "3             2358.0       120.0             360.0             1.0   \n",
       "4                0.0       141.0             360.0             1.0   \n",
       "5             4196.0       267.0             360.0             1.0   \n",
       "\n",
       "   Property_Area  Loan_Status  \n",
       "1            0.0          0.0  \n",
       "2            1.0          1.0  \n",
       "3            1.0          1.0  \n",
       "4            1.0          1.0  \n",
       "5            1.0          1.0  "
      ]
     },
     "execution_count": 6,
     "metadata": {},
     "output_type": "execute_result"
    }
   ],
   "source": [
    "df.head() #processed"
   ]
  },
  {
   "cell_type": "code",
   "execution_count": 7,
   "metadata": {},
   "outputs": [],
   "source": [
    "#split into training and testing\n",
    "X = df.drop('Loan_Status',axis=1).values\n",
    "y = df['Loan_Status'].values\n",
    "X_train, X_test, y_train, y_test = train_test_split(X, y, test_size=0.3, random_state=42)"
   ]
  },
  {
   "cell_type": "code",
   "execution_count": 8,
   "metadata": {},
   "outputs": [
    {
     "name": "stdout",
     "output_type": "stream",
     "text": [
      "Training data feature space: (336, 11)\n",
      "Testing data feature space: (144, 11)\n"
     ]
    }
   ],
   "source": [
    "print(f\"Training data feature space: {X_train.shape}\")\n",
    "print(f\"Testing data feature space: {X_test.shape}\")"
   ]
  },
  {
   "cell_type": "code",
   "execution_count": 9,
   "metadata": {},
   "outputs": [],
   "source": [
    "### Create tensors from np.ndarry main data\n",
    "device = torch.device(\"cuda:0\" if torch.cuda.is_available() else \"cpu\") #Enable cuda if available\n",
    "\n",
    "X_train = torch.FloatTensor(X_train).to(device)\n",
    "X_test = torch.FloatTensor(X_test).to(device)\n",
    "y_train = torch.LongTensor(y_train).to(device)\n",
    "y_test = torch.LongTensor(y_test).to(device)"
   ]
  },
  {
   "cell_type": "code",
   "execution_count": 10,
   "metadata": {},
   "outputs": [],
   "source": [
    "## split X_train and y_train into N nodes representing N federated clients\n",
    "N = 2\n",
    "X_federated_train = torch.chunk(X_train, N, dim=0)\n",
    "y_federated_train = torch.chunk(y_train, N, dim=0)\n",
    "\n",
    "assert(len(X_federated_train) == N == len(y_federated_train))"
   ]
  },
  {
   "cell_type": "markdown",
   "metadata": {},
   "source": [
    "## Building Federated Model"
   ]
  },
  {
   "cell_type": "code",
   "execution_count": 11,
   "metadata": {},
   "outputs": [],
   "source": [
    "#main model for loan prediction (try out different values for hidden layers to improve baseline)\n",
    "class NN(nn.Module):\n",
    "    def __init__(self, input_features=11, layer1=20, layer2=20, out_features=2):\n",
    "        \"\"\"Initialize the model for loan prediction\"\"\"\n",
    "        super().__init__()\n",
    "        self.fc1 = nn.Linear(input_features, layer1)\n",
    "        self.fc2 = nn.Linear(layer1, layer2)\n",
    "        self.out = nn.Linear(layer2, out_features)\n",
    "        \n",
    "    def forward(self, x):\n",
    "        \"\"\"Forward pass with 11 input features\"\"\"\n",
    "        x = F.relu(self.fc1(x))\n",
    "        x = F.relu(self.fc2(x))\n",
    "        x = self.out(x)\n",
    "        return x"
   ]
  },
  {
   "cell_type": "code",
   "execution_count": 12,
   "metadata": {},
   "outputs": [],
   "source": [
    "# seed the model for reproducibility (ideally across all nodes, later...)\n",
    "torch.manual_seed(0)\n",
    "\n",
    "#define client and server models, where there are N clients and 1 master/server model\n",
    "clients = [NN().to(device) for _ in range(N)]\n",
    "server = NN().to(device)"
   ]
  },
  {
   "cell_type": "code",
   "execution_count": 13,
   "metadata": {},
   "outputs": [
    {
     "data": {
      "text/plain": [
       "NN(\n",
       "  (fc1): Linear(in_features=11, out_features=20, bias=True)\n",
       "  (fc2): Linear(in_features=20, out_features=20, bias=True)\n",
       "  (out): Linear(in_features=20, out_features=2, bias=True)\n",
       ")"
      ]
     },
     "execution_count": 13,
     "metadata": {},
     "output_type": "execute_result"
    }
   ],
   "source": [
    "server ##describe model, sort of (integrate tensorboard into PyTorch, not now tho)"
   ]
  },
  {
   "cell_type": "code",
   "execution_count": 14,
   "metadata": {},
   "outputs": [],
   "source": [
    "# implement backprop\n",
    "losses = [nn.CrossEntropyLoss() for _ in range(N)]\n",
    "optimizers = [torch.optim.Adam(clients[i].parameters(), lr=0.005) for i in range(N)]"
   ]
  },
  {
   "cell_type": "code",
   "execution_count": 15,
   "metadata": {},
   "outputs": [],
   "source": [
    "def train(model, index, epochs=int(1e3), epsilon=0.5):\n",
    "    \"\"\"\n",
    "    Train the model.\n",
    "    - assumes access to following global variables: X_train, y_train, y_pred, model, loss function, & optimizer.\n",
    "    @Param:\n",
    "    1. epochs - number of training iterations.\n",
    "    2. print_every - for visual purposes (set to None to ignore), outputs loss\n",
    "    3. epsilon - threshold to break training.\n",
    "    \"\"\"\n",
    "    start_time = time.time() #set start time\n",
    "    loss_arr = [] #plot\n",
    "    for i in range(1, epochs+1):\n",
    "        y_pred = model(X_federated_train[index])\n",
    "        loss = losses[index](y_pred, y_federated_train[index])\n",
    "        loss_arr.append(loss)\n",
    "        if(loss.item() <= epsilon):\n",
    "            break #converged\n",
    "        \n",
    "        optimizers[index].zero_grad()\n",
    "        loss.backward()\n",
    "        optimizers[index].step()\n",
    "        \n",
    "    return loss_arr"
   ]
  },
  {
   "cell_type": "markdown",
   "metadata": {},
   "source": [
    "## Federated Learning Setup"
   ]
  },
  {
   "cell_type": "code",
   "execution_count": 16,
   "metadata": {},
   "outputs": [],
   "source": [
    "def average():\n",
    "    \"\"\"Perform federated averaging\"\"\"\n",
    "    with torch.no_grad():\n",
    "        #set server to 0.\n",
    "        for name, param in server.named_parameters():\n",
    "                param.copy_(torch.zeros(param.size()))\n",
    "        #averaged weights\n",
    "        for client in clients:\n",
    "            for name, param in client.named_parameters():\n",
    "                server.state_dict()[name] += (param / N)"
   ]
  },
  {
   "cell_type": "code",
   "execution_count": 17,
   "metadata": {},
   "outputs": [],
   "source": [
    "def federated(t=10):\n",
    "    \"\"\"Run t epochs of FL setup\"\"\"\n",
    "    for _ in tqdm(range(t)):\n",
    "        costs = [train(client, i, epsilon=0.2) for i, client in enumerate(clients)]\n",
    "        average()\n",
    "    return costs #return the latest costs"
   ]
  },
  {
   "cell_type": "code",
   "execution_count": 18,
   "metadata": {},
   "outputs": [
    {
     "name": "stderr",
     "output_type": "stream",
     "text": [
      "100%|██████████| 25/25 [00:18<00:00,  1.35it/s]\n"
     ]
    }
   ],
   "source": [
    "costs = federated(t=25)"
   ]
  },
  {
   "cell_type": "code",
   "execution_count": 19,
   "metadata": {},
   "outputs": [],
   "source": [
    "#### predict X_test data\n",
    "predictions=[]\n",
    "with torch.no_grad():\n",
    "    for i, data in enumerate(X_test):\n",
    "        y_pred = server(data)\n",
    "        predictions.append(y_pred.argmax().item())\n",
    "        \n",
    "predictions = np.array(predictions, dtype=np.int8)"
   ]
  },
  {
   "cell_type": "code",
   "execution_count": 20,
   "metadata": {},
   "outputs": [
    {
     "data": {
      "image/png": "[encoded data removed]",
      "text/plain": [
       "<Figure size 432x288 with 1 Axes>"
      ]
     },
     "metadata": {
      "needs_background": "light"
     },
     "output_type": "display_data"
    }
   ],
   "source": [
    "#graph cost\n",
    "for i, cost in enumerate(costs):\n",
    "    plt.plot(cost, label='client #' + str(i))\n",
    "plt.xlabel(\"epoch\")\n",
    "plt.ylabel(\"Loss\")\n",
    "plt.title(\"Cost over epoch\")\n",
    "plt.legend()\n",
    "plt.grid()\n",
    "plt.show()"
   ]
  },
  {
   "cell_type": "code",
   "execution_count": 21,
   "metadata": {},
   "outputs": [
    {
     "name": "stdout",
     "output_type": "stream",
     "text": [
      "Prediction loans count: 141\n",
      "Prediction not loans count: 3\n"
     ]
    }
   ],
   "source": [
    "loan = np.where(predictions == 1)[0]\n",
    "not_loan = np.where(predictions == 0)[0]\n",
    "print(f\"Prediction loans count: {len(loan)}\")\n",
    "print(f\"Prediction not loans count: {len(not_loan)}\")"
   ]
  },
  {
   "cell_type": "code",
   "execution_count": 22,
   "metadata": {},
   "outputs": [],
   "source": [
    "score = accuracy_score(y_test, predictions)\n",
    "tn, fp, fn, tp = confusion_matrix(y_test, predictions).ravel()"
   ]
  },
  {
   "cell_type": "code",
   "execution_count": 23,
   "metadata": {},
   "outputs": [
    {
     "name": "stdout",
     "output_type": "stream",
     "text": [
      "Accuracy 0.7013888888888888\n",
      "***Confusion Matrix stats***\n",
      "True Negative: 2\n",
      "False Positive: 42\n",
      "False Negative: 1\n",
      "True Positive: 99\n"
     ]
    }
   ],
   "source": [
    "print(\"Accuracy\", score)\n",
    "print(\"***Confusion Matrix stats***\")\n",
    "print(f\"True Negative: {tn}\\nFalse Positive: {fp}\\nFalse Negative: {fn}\\nTrue Positive: {tp}\")"
   ]
  },
  {
   "cell_type": "code",
   "execution_count": 24,
   "metadata": {},
   "outputs": [
    {
     "data": {
      "image/png": "[encoded data removed]",
      "text/plain": [
       "<Figure size 432x288 with 1 Axes>"
      ]
     },
     "metadata": {
      "needs_background": "light"
     },
     "output_type": "display_data"
    }
   ],
   "source": [
    "plt.hist(loan, label='Loan')\n",
    "plt.hist(not_loan, label='Not Loan')\n",
    "plt.legend()\n",
    "plt.xlabel(\"Observation\")\n",
    "plt.ylabel(\"Frequency\")\n",
    "plt.title(\"Histogram of loan vs. not loan observations\")\n",
    "plt.show()"
   ]
  },
  {
   "cell_type": "markdown",
   "metadata": {},
   "source": [
    "## Upload models"
   ]
  },
  {
   "cell_type": "code",
   "execution_count": 25,
   "metadata": {},
   "outputs": [],
   "source": [
    "#Read more: https://pytorch.org/tutorials/beginner/saving_loading_models.html\n",
    "torch.save(server.state_dict(), f\"../model/stochastic_server_model.pth\")\n",
    "for i, client in enumerate(clients):\n",
    "    torch.save(client.state_dict(), f\"../model/stochastic_client_model_{i}.pth\")"
   ]
  }
 ],
 "metadata": {
  "kernelspec": {
   "display_name": "Python 3",
   "language": "python",
   "name": "python3"
  },
  "language_info": {
   "codemirror_mode": {
    "name": "ipython",
    "version": 3
   },
   "file_extension": ".py",
   "mimetype": "text/x-python",
   "name": "python",
   "nbconvert_exporter": "python",
   "pygments_lexer": "ipython3",
   "version": "3.7.6"
  }
 },
 "nbformat": 4,
 "nbformat_minor": 4
}
